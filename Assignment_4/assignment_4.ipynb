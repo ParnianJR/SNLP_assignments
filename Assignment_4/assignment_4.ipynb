{
 "cells": [
  {
   "cell_type": "markdown",
   "id": "e804bc2f",
   "metadata": {},
   "source": [
    "# SNLP Assignment 4\n",
    "\n",
    "Name 1: Parnian  Jahangirirad  \n",
    "Student id 1: 7062810   \n",
    "Email 1: paja00003@stud.uni-saarland.de  \n",
    "\n",
    "\n",
    "\n",
    "**Instructions:** Read each question carefully. <br/>\n",
    "Make sure you appropriately comment your code wherever required. Your final submission should contain the completed Notebook and the respective Python files for any additional exercises necessary. There is no need to submit the data files should they exist. <br>\n",
    "\n",
    "Upload the zipped folder on CMS. Please follow the naming convention of **Name1_studentID1_Name2_studentID2_Name3_studentID3.zip**. Only one member of the group should make the submisssion.\n",
    "\n",
    "---"
   ]
  },
  {
   "cell_type": "markdown",
   "id": "77126da3",
   "metadata": {},
   "source": [
    "# 1. Code (Theory) (1 Point)\n",
    "\n",
    "**1.1 (0.25 points)** Look at the lecture slides of chapter 4 (p. 26 - 36) and nicely write down the formulae in the following Markdown cell for these three:\n",
    "- Kraft's inequality \n",
    "- expected length per word after encoding\n",
    "- optimal length of code words\n",
    "\n",
    "**1.2 (0.25 points)** What is a prefix code and how does it relate to Kraft’s inequality?\n",
    "\n",
    "**1.3 (0.5 points)** Show mathematically that every prefix code with fixed-length satisfies Kraft's inequality. Explain."
   ]
  },
  {
   "cell_type": "markdown",
   "id": "36fe7f5e",
   "metadata": {},
   "source": [
    "### Answers 1.1 - 1.3:  \n",
    "#### 1.1:  \n",
    "- Kraft's inequality:  \n",
    "$\\sum_{i=1}^{m} D^{-i} \\leq 1$  \n",
    "where $D$ is the base of the code and $l_{i}$ is code word length of word i  \n",
    "- Expected length per word after encoding:  \n",
    "$L = \\sum_{i} l_{i}p(w_{i})$  \n",
    "- Optimal length of code words  \n",
    "$L^{*} = \\sum_{i} l_{i}p(w_{i}) + \\lambda \\sum_{i} (D^{-l_{i}} - 1)$\n",
    "#### 1.2:  \n",
    "Prefix code is a kind of mapping of words $w_{i}$ to finite strings of a D-nary alphabet, which no code word is prefix of another code word.  \n",
    "For each length distribution that satisfies Kraft's inequality there is a prefix code.  \n",
    "\n",
    "#### 1.3:  \n",
    "![](exe1.3.jpg)\n"
   ]
  },
  {
   "cell_type": "markdown",
   "id": "3911c4e0",
   "metadata": {},
   "source": [
    "# 2. Code (practical exercise) (3 Points)\n",
    "\n",
    "**2.1 (2 points)** Read up on *`Shannon–Fano coding`* on Wikipedia (https://en.wikipedia.org/wiki/Shannon-fano) and implement the algorithm that is described in the section *`Fano's code: binary splitting`*. Feel free to use the example from the lecture to check your implementation for correctness:\n",
    "\n",
    "| word | frequency | $$C(\\text{word})$$ |\n",
    "| ---- | --------- | ------- |\n",
    "|\"the\" | 0.5       | `0`     |\n",
    "|\"and\" | 0.25      | `10`    |\n",
    "|\"of\"  | 0.125     | `110`   |\n",
    "|\"he\"  | 0.125     | `111`   |\n",
    "\n",
    "**2.2 (0.5 points)** Load the text file `alice_eng.txt` and preprocess it by lowercasing, removing punctuation and tokenizing the words by whitespaces. Now take the first 500 words of that corpus and run your implementation of Shannon-Fano encoding on it. Compute and print out the average amount of bits per word.\n",
    "\n",
    "**2.3 (0.5 points)** Explain the differences between Shannon-Fano coding and Huffman coding. Provide an example where Huffman coding is more efficient."
   ]
  },
  {
   "cell_type": "markdown",
   "id": "d6ef4498",
   "metadata": {},
   "source": [
    "### 2.1:"
   ]
  },
  {
   "cell_type": "code",
   "execution_count": 2,
   "id": "34baa2b3",
   "metadata": {},
   "outputs": [
    {
     "name": "stdout",
     "output_type": "stream",
     "text": [
      "{'the': '0', 'and': '10', 'of': '110', 'he': '111'}\n"
     ]
    }
   ],
   "source": [
    "### TODO:\n",
    "def split(symbols):\n",
    "    symbols_keys = list(symbols.keys())\n",
    "    symbols_values = list(symbols.values())\n",
    "    total_prob = sum(prob for prob in symbols_values)\n",
    "    cumulative_prob = 0\n",
    "    for i, (symbol, prob) in enumerate(symbols.items()):\n",
    "        cumulative_prob += prob\n",
    "        if cumulative_prob >= total_prob / 2:\n",
    "            s1 = dict(zip(symbols_keys[:i+1], symbols_values[:i+1]))\n",
    "            s2 = dict(zip(symbols_keys[i+1:], symbols_values[i+1:]))\n",
    "            #print(s1)\n",
    "            #print(s2)\n",
    "            return s1, s2\n",
    "    \n",
    "\n",
    "def encoder(symbols,code_prefix, code_dict):\n",
    "    if len(symbols) == 1:\n",
    "        #print(symbols)\n",
    "        #print(\"********\")\n",
    "        symbol = list(symbols.keys())\n",
    "        code_dict[symbol[0]] = code_prefix\n",
    "        #print(code_dict)\n",
    "        return code_dict\n",
    "    left_group, right_group = split(symbols)\n",
    "    encoder(left_group, code_prefix + '0', code_dict)\n",
    "    encoder(right_group, code_prefix + '1', code_dict)\n",
    "    #return after all recursive calls\n",
    "    return code_dict\n",
    "\n",
    "\n",
    "def get_encoding(symbols: dict, base: int = 2) -> dict:\n",
    "    \"\"\" Generate a prefix encoding for each of the symbols\n",
    "\n",
    "    Args:\n",
    "    alphabet - a dictionary that holds in its keys the alphabet item and\n",
    "                its relative frequency as the value, e.g. {'a': 0.5, 'b': 0.5}\n",
    "    base - an `int` that represents the base of the code. Feel free to make\n",
    "            your implementation open to other bases. For the purpose of this\n",
    "            exercise, using only base `2`, i.e. binary code, suffices.\n",
    "\n",
    "    Returns a `dict` with alphabet items in its keys and the encoding as the\n",
    "    values, e.g. {'a': '0', 'b': '1'}\n",
    "    \"\"\"\n",
    "    #sorting symbols in decreasing order based on frequencies\n",
    "    sorted_symbols = dict(sorted(symbols.items(), key=lambda item: item[1], reverse=True))\n",
    "    code_dict = {}\n",
    "    code_dict = encoder(sorted_symbols, '',code_dict)\n",
    "    #print(\"code_dict is :\",code_dict)\n",
    "    return code_dict   \n",
    "    \n",
    "    raise NotImplementedError\n",
    "    \n",
    "print(get_encoding({\"the\": 0.5, \"and\": 0.25, \"of\": 0.125, \"he\": 0.125}))"
   ]
  },
  {
   "cell_type": "markdown",
   "id": "7813d001",
   "metadata": {},
   "source": [
    "### 2.2:"
   ]
  },
  {
   "cell_type": "code",
   "execution_count": 3,
   "id": "bc5c7636",
   "metadata": {},
   "outputs": [
    {
     "name": "stdout",
     "output_type": "stream",
     "text": [
      "Average amount of bits per word: 7.34\n"
     ]
    }
   ],
   "source": [
    "### TODO\n",
    "from nltk.tokenize import RegexpTokenizer\n",
    "from collections import Counter\n",
    "def preprocessing(filepath):\n",
    "    #load the text\n",
    "    with open(filepath, 'r', encoding='utf_8') as file:\n",
    "        text = file.read()\n",
    "\n",
    "    #lowercasing\n",
    "    text = text.lower()\n",
    "\n",
    "    #tokenizing and removing punctuations\n",
    "    tokenizer = RegexpTokenizer(r'\\w+')\n",
    "    tokens = tokenizer.tokenize(text)\n",
    "    #print(\"type of tokens is: \",type(tokens))\n",
    "    return tokens\n",
    "\n",
    "\n",
    "tokens = preprocessing('./data/alice_eng.txt')\n",
    "#first 500 words\n",
    "words = tokens[:500]\n",
    "\n",
    "num_words = Counter(words)\n",
    "total_num = sum(num_words.values())\n",
    "word_prob_dict = {word:freq/total_num for word,freq in num_words.items()}\n",
    "\n",
    "code_dict = get_encoding(word_prob_dict)\n",
    "#print(code_dict)\n",
    "#print('********************************')\n",
    "#Average amounts of bits per word\n",
    "average_bits = (sum(len(code_dict[word]) * freq for word,freq in num_words.items()))/total_num\n",
    "print(f\"Average amount of bits per word: {average_bits}\")\n",
    "\n"
   ]
  },
  {
   "cell_type": "markdown",
   "id": "27ff7ee5",
   "metadata": {},
   "source": [
    "### Answer 2.3:\n",
    "Shannon-Fano coding recursively splits the list of words in to two parts with approximate equal total frequency probabilities.  \n",
    "Huffman coding creates a leaf node for each word and adds it to the priority queue based on the word's probability. Huffman coding always generates a coding with optimal length distribution, but it is not always the case with the Shannon-Fano coding. Let's look at an example:  \n",
    "{'A':0.4, 'B':0.35, 'C':0.2, 'D':0.05}\n",
    "We will calculate the average code length for both methods. Fist for Shannon-Fano coding:  \n",
    "\n",
    "---"
   ]
  },
  {
   "cell_type": "code",
   "execution_count": 4,
   "id": "77944b35",
   "metadata": {},
   "outputs": [
    {
     "name": "stdout",
     "output_type": "stream",
     "text": [
      "Average amount of bits per word: 2.0\n"
     ]
    }
   ],
   "source": [
    "example = {'A':0.4, 'B':0.35, 'C':0.2, 'D':0.05}\n",
    "total_prob = sum(example.values())\n",
    "example_code_dict = get_encoding(example)\n",
    "example_average_bits = (sum(len(example_code_dict[word]) * freq for word,freq in example.items()))/total_prob\n",
    "print(f\"Average amount of bits per word: {example_average_bits}\")\n"
   ]
  },
  {
   "cell_type": "markdown",
   "id": "dc96b2bf",
   "metadata": {},
   "source": [
    "And then Huffman coding:  \n",
    "![](exe2.3.jpg)"
   ]
  },
  {
   "cell_type": "markdown",
   "id": "06c54e79",
   "metadata": {},
   "source": [
    "# 3. Perplexity Calculations (3 Points)\n",
    "\n",
    "You are given a vocabulary of three words $w_1, w_2, w_3$ and a language model that assigns probabilities to these words:<br>\n",
    "| word | $$p(w_i)$$ |\n",
    "| ---- | --------- |\n",
    "|$$w_1$$ | $$0.2$$       |\n",
    "|$$w2$$ | $$0.5$$      |\n",
    "|$$w3$$  | $$0.3$$     |\n",
    "\n",
    "**3.1 (0.25 points)** Calculate the entropy.\n",
    "\n",
    "**3.2 (0.25 points)** Calculate the perplexity.\n",
    "\n",
    "**3.3 (1 point)** Write down the Lagrangian function that minimizes the entropy under the constraint that the probabilities sum up to 1.\n",
    "\n",
    "$$L(p_1, p_2, p_3, λ) = $$\n",
    "\n",
    "**3.4 (1 point)** Write down the four partial derivatives and set them to zero. Calculate the result for the optimized probabilities.\n",
    "\n",
    "**3.5 (0.5 points)** Now compute the perplexity for the optimized probabilities. Explain the result."
   ]
  },
  {
   "cell_type": "markdown",
   "id": "62ca683e",
   "metadata": {},
   "source": [
    "### Answers 3.1 - 3.5:  \n",
    "#### 3.1 & 3.2  \n",
    "\n",
    "\n",
    "---"
   ]
  },
  {
   "cell_type": "code",
   "execution_count": 10,
   "id": "3ebaea57",
   "metadata": {},
   "outputs": [
    {
     "name": "stdout",
     "output_type": "stream",
     "text": [
      "entropy:  1.4854752972273344\n",
      "perplexity:  2.8000940728538315\n"
     ]
    }
   ],
   "source": [
    "import math\n",
    "def compute_entropy(prob_dict):\n",
    "    entropy = 0\n",
    "    for prob in prob_dict.values():\n",
    "        entropy -= prob * math.log2(prob) if prob > 0 else 0\n",
    "    \n",
    "    return entropy\n",
    "\n",
    "def compute_perplexity(entropy):\n",
    "    return 2**entropy\n",
    "\n",
    "word_dict = {'w1':0.2, 'w2':0.5, 'w3':0.3}\n",
    "entropy = compute_entropy(word_dict)\n",
    "print(\"entropy: \",entropy)\n",
    "print(\"perplexity: \",compute_perplexity(entropy))"
   ]
  },
  {
   "cell_type": "markdown",
   "id": "0cea1460",
   "metadata": {},
   "source": [
    "#### 3.3:  \n",
    "![](exe3.3.jpg)"
   ]
  },
  {
   "cell_type": "markdown",
   "id": "1573ebaf",
   "metadata": {},
   "source": [
    "#### 3.4:  \n",
    "![](exe3.3-part1.jpg)\n",
    "![](exe3.3-part2.jpg)"
   ]
  },
  {
   "cell_type": "code",
   "execution_count": 11,
   "id": "ad5a59c0",
   "metadata": {},
   "outputs": [
    {
     "name": "stdout",
     "output_type": "stream",
     "text": [
      "0.0\n",
      "perplexity:  1.0\n"
     ]
    }
   ],
   "source": [
    "#compute perplexity when p1=p2=p3= 1/3\n",
    "word_dict = {'w1':0, 'w2':0, 'w3':1}\n",
    "entropy = compute_entropy(word_dict)\n",
    "print(entropy)\n",
    "print(\"perplexity: \",compute_perplexity(entropy))"
   ]
  },
  {
   "cell_type": "markdown",
   "id": "4fa41547",
   "metadata": {},
   "source": [
    "By minimizing the lagrangian function, we also reached the minimum perplexity, which is 1.  "
   ]
  },
  {
   "cell_type": "markdown",
   "id": "27201869",
   "metadata": {},
   "source": [
    "# 4. OOVs (3 points)\n",
    "\n",
    "**4.1 (0.25 points)** What are out-of-vocabulary words (OOVs)?\n",
    "\n",
    "**4.2 (0.25 points)** How does perplexity behave with words that are less frequent?\n",
    "\n",
    "**4.3 (0.25 points)** Show mathematically what would happen to the perplexity if a symbol in the test set is an OOV. In this case, assume a probability of $0^+$.\n",
    "\n",
    "**4.4 (0.25 points)** Load the Penn Treebank in NLTK (based on the WSJ corpus), preprocess it by lowercasing and removing punctuation, and then perform a 70:30 train:test split.\n",
    "\n",
    "The go-to solution for modelling OOVs in the N-gram setting is to introduce a new `<unk>` token in the vocabulary for all unknown words. The `<unk>` token replaces all OOVs and is then modeled like a normal word. \n",
    "\n",
    "**4.5 (0.5 points)** Your task is to complete the function to create a vocabulary with the top_n most frequent words in the train set.\n",
    "\n",
    "**4.6 (0.5 points)** Complete the function that restricts a corpus into the given vocabulary, i.e. all OOVs will be replaced with `<unk>`.\n",
    "\n",
    "**4.7 (0.5 points)** Plot the OOV-rates (see chapter 5 p. 5) for the train and test set with increasing size of the vocabulary (use a log-log scale). What do you observe?\n",
    "\n",
    "**4.8 (0.5 points)** Plot the perplexity for the train and test set with increasing size of the vocabulary. What do you observe?"
   ]
  },
  {
   "cell_type": "markdown",
   "id": "b0f58f06",
   "metadata": {},
   "source": [
    "### Answers 4.1 - 4.3:  \n",
    "#### 4.1:  \n",
    "Out of vocabulary words are words that are not present in the language's vovabulary.  \n",
    "#### 4.2:  \n",
    "Perplexity increases with less frequent words.  \n",
    "#### 4.3:  \n",
    "![](exe4.3.jpg) \n",
    "\n",
    "\n",
    "\n"
   ]
  },
  {
   "cell_type": "markdown",
   "id": "4e8e3385",
   "metadata": {},
   "source": [
    "### Your Code for 4.4 - 4.6:"
   ]
  },
  {
   "cell_type": "code",
   "execution_count": 22,
   "id": "5403a683",
   "metadata": {},
   "outputs": [
    {
     "name": "stdout",
     "output_type": "stream",
     "text": [
      "[nltk_data] Downloading package treebank to\n",
      "[nltk_data]     C:\\Users\\pjrad\\AppData\\Roaming\\nltk_data...\n",
      "[nltk_data]   Package treebank is already up-to-date!\n"
     ]
    }
   ],
   "source": [
    "import nltk\n",
    "nltk.download('treebank')\n",
    "from nltk.corpus import treebank\n",
    "import string\n",
    "from collections import Counter\n",
    "### TODO\n",
    "\n",
    "def load_and_preprocess_data() -> list[list[str]]:\n",
    "    ''' Function that loads the WSJ dataset, removes punctuation and lowercases the tokens\n",
    "    Output: the preprocessed corpus - list[list[str]]'''\n",
    "    sentences = treebank.sents()\n",
    "    preprocessed_sents = []\n",
    "    for sentence in sentences:\n",
    "        #lowercasing\n",
    "        sentence = [word.lower() for word in sentence]\n",
    "        #removing punctuations\n",
    "        sentence = [word for word in sentence if word not in string.punctuation]\n",
    "        preprocessed_sents.append(sentence)\n",
    "\n",
    "    return preprocessed_sents\n",
    "    raise NotImplementedError\n",
    "\n",
    "def train_test_split(corpus: list[list[str]]) -> (list[list[str]], list[list[str]]):\n",
    "    '''Splits the corpus using a 70:30 ratio. Do not randomize anything here. use the original order\n",
    "    Input: corpus - list[list[str]]\n",
    "    Output: tuple of train and test set - list[list[str]], list[list[str]]'''\n",
    "    index = int(len(corpus) * 0.7)\n",
    "    train_set = corpus[:index]\n",
    "    test_set = corpus[index:]\n",
    "    return train_set, test_set\n",
    "    raise NotImplementedError\n",
    "    \n",
    "def make_vocab(corpus: list[list[str]], top_n: int) -> set:\n",
    "    '''Make the top_n frequent vocabulary from a corpus\n",
    "    Input: corpus - list[list[str]]\n",
    "         top_n  - int\n",
    "    Output: the vocabulary - set of words'''\n",
    "    words = [word for sentence in corpus for word in sentence]\n",
    "\n",
    "    words_count = Counter(words)\n",
    "    top_n_words = words_count.most_common(top_n)\n",
    "    #print(top_n_words)\n",
    "    #print(\"*********************\")\n",
    "    top_n_set = set(word for word,count in top_n_words)\n",
    "    return top_n_set\n",
    "    raise NotImplementedError\n",
    "    \n",
    "def restrict_vocab(corpus: list[list[str]], vocab: set) -> list[list[str]]:\n",
    "    '''Make the corpus fit inside the vocabulary using <unk>\n",
    "    Input: corpus - list[list[str]]\n",
    "         vocab  - set of words\n",
    "    Output: The corpus restricted by the vocabulary - list[list[str]]'''\n",
    "    restricted_vocab = [[word if word in vocab else '<unk>' for word in sentence] for sentence in corpus]\n",
    "    return restricted_vocab\n",
    "    raise NotImplementedError\n",
    "    "
   ]
  },
  {
   "cell_type": "markdown",
   "id": "00799b6a",
   "metadata": {},
   "source": [
    "### Your Code for 4.7 - 4.8:"
   ]
  },
  {
   "cell_type": "code",
   "execution_count": 38,
   "id": "345d5d1f",
   "metadata": {},
   "outputs": [
    {
     "data": {
      "image/png": "[encoded data removed]",
      "text/plain": [
       "<Figure size 720x432 with 1 Axes>"
      ]
     },
     "metadata": {
      "needs_background": "light"
     },
     "output_type": "display_data"
    },
    {
     "data": {
      "image/png": "[encoded data removed]",
      "text/plain": [
       "<Figure size 720x432 with 1 Axes>"
      ]
     },
     "metadata": {
      "needs_background": "light"
     },
     "output_type": "display_data"
    }
   ],
   "source": [
    "import numpy as np\n",
    "import matplotlib.pyplot as plt\n",
    "import math\n",
    "\n",
    "def OOV_rate(corpus: list[list[str]], vocab: set) -> float:\n",
    "\n",
    "    total_words = sum(len(sentence) for sentence in corpus)\n",
    "    oov_words = sum(word not in vocab for sentence in corpus for word in sentence)\n",
    "\n",
    "    return oov_words / total_words\n",
    "\n",
    "\n",
    "def calculate_word_probabilities(train_set: list[list[str]], vocab: set) -> dict:\n",
    "    word_counts = Counter(word for sentence in train_set for word in sentence)\n",
    "    total_count = sum(word_counts.values())\n",
    "    word_probs = {word: word_counts[word] / total_count for word in vocab}\n",
    "    word_probs['<unk>'] = 1 / total_count\n",
    "\n",
    "    return word_probs\n",
    "\n",
    "\n",
    "def calculate_perplexity(corpus: list[list[str]], vocab: set, word_probs: dict) -> float:\n",
    "    total_words = sum(len(sentence) for sentence in corpus)\n",
    "    log_prob_sum = 0\n",
    "    for sentence in corpus:\n",
    "        for word in sentence:\n",
    "            if word in vocab:\n",
    "                log_prob_sum += math.log2(word_probs[word])\n",
    "            else:\n",
    "                log_prob_sum += math.log2(word_probs['<unk>'])\n",
    "    \n",
    "    avg_log_prob = log_prob_sum / total_words\n",
    "    perplexity = 2 ** (-avg_log_prob)\n",
    "    \n",
    "    return perplexity\n",
    "\n",
    "\n",
    "\n",
    "preprocessed_corpus = load_and_preprocess_data()\n",
    "train_set, test_set = train_test_split(preprocessed_corpus)\n",
    "\n",
    "train_oov_rates = []\n",
    "test_oov_rates = []\n",
    "\n",
    "train_perplexities = []\n",
    "test_perplexities = []\n",
    "\n",
    "for top_n in np.linspace(100,5000,10,dtype=int):\n",
    "    vocab = make_vocab(train_set, top_n)\n",
    "    word_probs = calculate_word_probabilities(train_set, vocab)\n",
    "\n",
    "    #Calculating OOV rates\n",
    "    train_oov_rate = OOV_rate(train_set, vocab)\n",
    "    test_oov_rate = OOV_rate(test_set, vocab)\n",
    "    train_oov_rates.append(train_oov_rate)\n",
    "    test_oov_rates.append(test_oov_rate)\n",
    "\n",
    "    #Calculating perplexity\n",
    "    train_perplexity = calculate_perplexity(train_set, vocab, word_probs)\n",
    "    test_perplexity = calculate_perplexity(test_set, vocab, word_probs)\n",
    "    train_perplexities.append(train_perplexity)\n",
    "    test_perplexities.append(test_perplexity)\n",
    "\n",
    "#Plot OOV_rate\n",
    "plt.figure(figsize=(10, 6))\n",
    "plt.plot(np.linspace(100,5000,10,dtype=int), train_oov_rates, label='Train OOV Rate')\n",
    "plt.plot(np.linspace(100,5000,10,dtype=int), test_oov_rates, label='Test OOV Rate')\n",
    "plt.xscale('log')\n",
    "plt.yscale('log')\n",
    "plt.xlabel('Vocabulary Size (log scale)')\n",
    "plt.ylabel('OOV Rate (log scale)')\n",
    "plt.title('OOV Rate vs. Vocabulary Size')\n",
    "plt.legend()\n",
    "plt.grid(True)\n",
    "plt.show()\n",
    "\n",
    "#Plot perplexity\n",
    "plt.figure(figsize=(10, 6))\n",
    "plt.plot(np.linspace(100,5000,10,dtype=int), train_perplexities, label='Train Perplexity')\n",
    "plt.plot(np.linspace(100,5000,10,dtype=int), test_perplexities, label='Test Perplexity')\n",
    "plt.xscale('log')\n",
    "plt.yscale('log')\n",
    "plt.xlabel('Vocabulary Size (log scale)')\n",
    "plt.ylabel('Perplexity (log scale)')\n",
    "plt.title('Perplexity vs. Vocabulary Size')\n",
    "plt.legend()\n",
    "plt.grid(True)\n",
    "plt.show()\n",
    "\n",
    "#raise NotImplementedError"
   ]
  },
  {
   "cell_type": "markdown",
   "id": "55ee4acd",
   "metadata": {},
   "source": [
    "#### Answers 4.7:  \n",
    "It can be seen that with increase in vocabulary size, the OOV_rate decreases for both train and test set. And for every vocabulary size in the plot, Test OOV_rate is higher than train OOV_rate. And by increasing the vocabulary size, the gap between test OOV_rate and train OOV_rate increases. Perhaps it is because when the vocabulary size is small, it contains more common words that are common between train and test sets. However, when the vocabulary size increases, more spesific words from train set are added to vocabulary, increasing the gap between train and test OOV_rate.  \n",
    "#### Answer 4.8:  \n",
    "According to the second plot, perplexity of both train and test set decreases when vocabulary size increases."
   ]
  },
  {
   "cell_type": "markdown",
   "id": "3bcc8d29",
   "metadata": {},
   "source": [
    "# 5. Bonus: Cracking Caesar Cipher (3 Points)\n",
    "\n",
    "**5.1 (0.5 point)** Load the files `alice_eng.txt`, `alice_fra.txt` and `alice_ger.txt`. Preprocess them by lowercasing and removing punctuation. Now replace every special language-specific character that is not a letter of the Latin alphabet with the special token '?', but keep the whitespaces.\n",
    "\n",
    "**5.2 (0.5 point)** Perform a frequency analysis of the remaining characters and sort them in descending order. Plot a histogram for each language.\n",
    "\n",
    "**5.3 (2 point)** You are given a text that was encrypted using the Caesar cipher (https://en.wikipedia.org/wiki/Caesar_cipher) with an unknown key. The original language is either English, French or German. Analyze the **letter** frequency of this text and then compute the Kullback-Leibler divergence against the three languages to find out which language it is.\n",
    "\n",
    "\"ul tyrdgzxefe uzk cr tyvezccv tfddv jz rcztv rmrzk gric? kflk yrlkvk le dfdvek rgi?j cr tyvezccv rmrzk uzjgrilrcztv tfekvdgcr cv tyrdgzxefe ule rzi gvejzw gveurek le zejkrek vjjrprek uv uvmzevi hlvcj ve ?krzvek cvj t?k?j vk tfddv cv tyrdgzxefe?krzk kflk ifeu vccv kiflmr cr hlvjkzfe wfik vdsriirjjrekv vewze vccv?kveuzk jvj sirj kflk rlkfli ve cvj rccfexvrek rlkrek hlv gfjjzscvvk uv tyrhlv drze vecvmr lev gvkzkv grikzv ul sfiu ul tyrdgzxefe drzekverek cvhlvc uvj uvlo jv uzkvccv vk vccv xizxefkr le gvl ul dfitvrl uv cr drze uifzkv gfli mfzi hlvc vwwvk zc gifulzirzk givjhlv rljjzk?k vccv iv?lk le tflg mzfcvek jflj cv dvekfe zc mverzk uv wirggvi tfekiv jfe gzvu tv siljhlv tyrexvdvek clz wzk xireu gvli drzj vccv tfdgizk hlzc ep rmrzk grj uv kvdgj ? gviuiv tri vccv uzdzelrzk irgzuvdvek vccv jv dzk ufet szve mzkv ? drexvi le gvl uv crlkiv dfitvrl jfe dvekfe ?krzk jz irggifty? uv jfe gzvu hlzc p rmrzk ? gvzev rjjvq uv gcrtv gfli hlvccv g?k flmizi cr sfltyv vccv p i?ljjzk vewze vk grimzek ? rmrcvi lev grikzv ul dfitvrl uv cr drze xrltyv\""
   ]
  },
  {
   "cell_type": "code",
   "execution_count": 25,
   "id": "846dae94",
   "metadata": {},
   "outputs": [],
   "source": [
    "#5.1 : Preprocessing text files\n",
    "import string\n",
    "def preprocess(filepath):\n",
    "    with open(filepath, 'r', encoding='utf_8') as file:\n",
    "        text = file.read()\n",
    "\n",
    "    text = text.lower()\n",
    "    text = text.translate(str.maketrans(\"\", \"\", string.punctuation))\n",
    "    # Replacing special characters with '?'\n",
    "    text = ''.join(c if c in string.ascii_lowercase + ' ' else '?' for c in text)\n",
    "    return text\n",
    "\n",
    "alice_eng = preprocess('data/alice_eng.txt')\n",
    "alice_fra = preprocess('data/alice_fra.txt')\n",
    "alice_ger = preprocess('data/alice_ger.txt')"
   ]
  },
  {
   "cell_type": "code",
   "execution_count": 26,
   "id": "5909f2dc",
   "metadata": {},
   "outputs": [
    {
     "data": {
      "image/png": "[encoded data removed]",
      "text/plain": [
       "<Figure size 720x432 with 1 Axes>"
      ]
     },
     "metadata": {
      "needs_background": "light"
     },
     "output_type": "display_data"
    },
    {
     "data": {
      "image/png": "[encoded data removed]",
      "text/plain": [
       "<Figure size 720x432 with 1 Axes>"
      ]
     },
     "metadata": {
      "needs_background": "light"
     },
     "output_type": "display_data"
    },
    {
     "data": {
      "image/png": "[encoded data removed]",
      "text/plain": [
       "<Figure size 720x432 with 1 Axes>"
      ]
     },
     "metadata": {
      "needs_background": "light"
     },
     "output_type": "display_data"
    }
   ],
   "source": [
    "#5.2: Frequency analysis\n",
    "import matplotlib.pyplot as plt\n",
    "from collections import Counter\n",
    "\n",
    "def Frequency_analysis(text, lang):\n",
    "    counter = Counter(text)\n",
    "    # Removing space\n",
    "    if ' ' in counter:\n",
    "        del counter[' ']\n",
    "    \n",
    "    #Sorting frequencies\n",
    "    sorted_freq = sorted(counter.items(), key=lambda item: item[1], reverse=True)\n",
    "    chars, freqs = zip(*sorted_freq)\n",
    "    \n",
    "    plt.figure(figsize=(10, 6))\n",
    "    plt.bar(chars, freqs)\n",
    "    plt.title(f'Character Frequency in {lang}')\n",
    "    plt.xlabel('Characters')\n",
    "    plt.ylabel('Frequencies')\n",
    "    plt.show()\n",
    "\n",
    "Frequency_analysis(alice_eng, 'English')\n",
    "Frequency_analysis(alice_fra, 'French')\n",
    "Frequency_analysis(alice_ger, 'German')"
   ]
  },
  {
   "cell_type": "code",
   "execution_count": 27,
   "id": "4a541f88",
   "metadata": {},
   "outputs": [
    {
     "data": {
      "image/png": "[encoded data removed]",
      "text/plain": [
       "<Figure size 720x432 with 1 Axes>"
      ]
     },
     "metadata": {
      "needs_background": "light"
     },
     "output_type": "display_data"
    },
    {
     "name": "stdout",
     "output_type": "stream",
     "text": [
      "{'v': 125, 'r': 76, 'k': 71, 'e': 70, 'z': 65, 'c': 56, 'l': 55, 'i': 47, 'f': 42, 'j': 39, 'g': 37, 'u': 34, 'd': 29, 't': 27, '?': 17, 'm': 14, 'y': 12, 'x': 11, 'h': 11, 'w': 8, 's': 7, 'p': 4, 'o': 1, 'q': 1}\n",
      "**********************\n",
      "24\n",
      "27\n",
      "{'v': 125, 'r': 76, 'k': 71, 'e': 70, 'z': 65, 'c': 56, 'l': 55, 'i': 47, 'f': 42, 'j': 39, 'g': 37, 'u': 34, 'd': 29, 't': 27, '?': 17, 'm': 14, 'y': 12, 'x': 11, 'h': 11, 'w': 8, 's': 7, 'p': 4, 'o': 1, 'q': 1}\n",
      "**********************\n",
      "24\n",
      "27\n",
      "{'v': 125, 'r': 76, 'k': 71, 'e': 70, 'z': 65, 'c': 56, 'l': 55, 'i': 47, 'f': 42, 'j': 39, 'g': 37, 'u': 34, 'd': 29, 't': 27, '?': 17, 'm': 14, 'y': 12, 'x': 11, 'h': 11, 'w': 8, 's': 7, 'p': 4, 'o': 1, 'q': 1}\n",
      "**********************\n",
      "24\n",
      "27\n",
      "KL_divergence with English text:  0.03333077587513605\n",
      "KL_divergence with French text:  0.021787585333461118\n",
      "KL_divergence with German text:  0.023373187551170065\n"
     ]
    }
   ],
   "source": [
    "#5.3: \n",
    "from nltk import FreqDist\n",
    "import math\n",
    "\n",
    "def KL_divergence(t1,t2):\n",
    "    #compute frequency distrubutions\n",
    "    distr_freq1 = FreqDist(t1)\n",
    "    if ' ' in distr_freq1:\n",
    "        del distr_freq1[' ']\n",
    "    distr_freq2 = FreqDist(t2)\n",
    "    if ' ' in distr_freq2:\n",
    "        del distr_freq2[' ']\n",
    "\n",
    "    distr_freq1 = sorted(distr_freq1.items(), key=lambda item: item[1], reverse=True)\n",
    "    distr_freq2 = sorted(distr_freq2.items(), key=lambda item: item[1], reverse=True)\n",
    "\n",
    "    distr_freq1 = {key:value for key,value in distr_freq1}\n",
    "    distr_freq2 = {key:value for key,value in distr_freq2}\n",
    "    #check if we're working character level\n",
    "    print(distr_freq1)\n",
    "    print(\"**********************\")\n",
    "    #computing probabilities\n",
    "    total_count1 = sum(distr_freq1.values())\n",
    "    distr_prob1 = {word: count / total_count1 for word, count in distr_freq1.items()}\n",
    "\n",
    "    total_count2 = sum(distr_freq2.values())\n",
    "    distr_prob2 = {word: count / total_count2 for word, count in distr_freq2.items()}\n",
    "\n",
    "    # Calculate KL divergence\n",
    "    KL_divergence = 0\n",
    "    list_val_1 = list(distr_prob1.values())\n",
    "    list_val_2 = list(distr_prob2.values())\n",
    "    print(len(list_val_1))\n",
    "    print(len(list_val_2))\n",
    "    for i in range(len(list_val_1)):\n",
    "        KL_divergence += list_val_1[i] * math.log2(list_val_1[i]/ list_val_2[i])\n",
    "\n",
    "    return KL_divergence\n",
    "\n",
    "\n",
    "encrypted_text = \"ul tyrdgzxefe uzk cr tyvezccv tfddv jz rcztv rmrzk gric? kflk yrlkvk le dfdvek rgi?j cr tyvezccv rmrzk uzjgrilrcztv tfekvdgcr cv tyrdgzxefe ule rzi gvejzw gveurek le zejkrek vjjrprek uv uvmzevi hlvcj ve ?krzvek cvj t?k?j vk tfddv cv tyrdgzxefe?krzk kflk ifeu vccv kiflmr cr hlvjkzfe wfik vdsriirjjrekv vewze vccv?kveuzk jvj sirj kflk rlkfli ve cvj rccfexvrek rlkrek hlv gfjjzscvvk uv tyrhlv drze vecvmr lev gvkzkv grikzv ul sfiu ul tyrdgzxefe drzekverek cvhlvc uvj uvlo jv uzkvccv vk vccv xizxefkr le gvl ul dfitvrl uv cr drze uifzkv gfli mfzi hlvc vwwvk zc gifulzirzk givjhlv rljjzk?k vccv iv?lk le tflg mzfcvek jflj cv dvekfe zc mverzk uv wirggvi tfekiv jfe gzvu tv siljhlv tyrexvdvek clz wzk xireu gvli drzj vccv tfdgizk hlzc ep rmrzk grj uv kvdgj ? gviuiv tri vccv uzdzelrzk irgzuvdvek vccv jv dzk ufet szve mzkv ? drexvi le gvl uv crlkiv dfitvrl jfe dvekfe ?krzk jz irggifty? uv jfe gzvu hlzc p rmrzk ? gvzev rjjvq uv gcrtv gfli hlvccv g?k flmizi cr sfltyv vccv p i?ljjzk vewze vk grimzek ? rmrcvi lev grikzv ul dfitvrl uv cr drze xrltyv\"\n",
    "#Analysing frequency of encrypted text\n",
    "Frequency_analysis(encrypted_text,'Unknown')\n",
    "\n",
    "#Calculating KL-divergence bewteen encrypted text and three other texts\n",
    "Eng_kl_div = KL_divergence(encrypted_text,alice_eng)\n",
    "Fre_kl_div = KL_divergence(encrypted_text,alice_fra)\n",
    "Ger_kl_div = KL_divergence(encrypted_text,alice_ger)\n",
    "\n",
    "print(\"KL_divergence with English text: \",Eng_kl_div)\n",
    "print(\"KL_divergence with French text: \",Fre_kl_div)\n",
    "print(\"KL_divergence with German text: \",Ger_kl_div)\n"
   ]
  },
  {
   "cell_type": "markdown",
   "id": "ef7fee7d",
   "metadata": {},
   "source": [
    "According to KL_divergence scores, it appears that this text is in French language (having the lowest kl-divergence value)."
   ]
  }
 ],
 "metadata": {
  "kernelspec": {
   "display_name": "Python 3 (ipykernel)",
   "language": "python",
   "name": "python3"
  },
  "language_info": {
   "codemirror_mode": {
    "name": "ipython",
    "version": 3
   },
   "file_extension": ".py",
   "mimetype": "text/x-python",
   "name": "python",
   "nbconvert_exporter": "python",
   "pygments_lexer": "ipython3",
   "version": "3.9.0"
  }
 },
 "nbformat": 4,
 "nbformat_minor": 5
}
